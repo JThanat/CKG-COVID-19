{
 "cells": [
  {
   "cell_type": "markdown",
   "metadata": {},
   "source": [
    "# Constructing ISI's COVID-19 Knowledge Graph"
   ]
  },
  {
   "cell_type": "markdown",
   "metadata": {},
   "source": [
    "This notebook shows how we use our KGTK toolking (link) to construct the COVID-19 knowledge graph for the CORD-19 corpus using the text extractions from the BLENDER group at UIUC. The text extractions inlcude a variety of entity extractions with links to bioinformatics databases. Our approach is to:\n",
    "\n",
    "* extract from Wikidata the subgraph that covers all the publications in the CORD-19 corpus and the entities identified by the BLENDER group.\n",
    "* define new Wikidata items for publications or entities that are not present in the public Wikidata\n",
    "* annotate the article items with the relevant entities\n",
    "* preserve provenance\n",
    "\n",
    "We implement the approach in the following steps:\n",
    "\n",
    "* data prepararation: convert the JSON representation of BLENDER output to CSV files that are easy to process\n",
    "* extract Wikidata subgraph: extract from Wikidata the articles, authors, and entities mentioned in the BLENDER corpus\n",
    "* create missing items: create nodes for articles and entities that are not present in Wikidata\n",
    "* create mention edges: create edges to record the entity extractions from BLENDER, including justifications\n",
    "* incorporate analytic outputs: add edges to record graph metrics such as pagerank\n",
    "* export knowledge graph: export the graph to KGTL edges, RDF and Neo4J "
   ]
  },
  {
   "cell_type": "markdown",
   "metadata": {},
   "source": [
    "## Data Preparation"
   ]
  },
  {
   "cell_type": "markdown",
   "metadata": {},
   "source": [
    "Set up environment variables with location of the input files"
   ]
  },
  {
   "cell_type": "code",
   "execution_count": 1,
   "metadata": {},
   "outputs": [],
   "source": [
    "import numpy as np\n",
    "import pandas as pd\n",
    "import os"
   ]
  },
  {
   "cell_type": "code",
   "execution_count": 2,
   "metadata": {},
   "outputs": [
    {
     "name": "stdout",
     "output_type": "stream",
     "text": [
      "env: COVID=/Users/pedroszekely/data/covid/blender\n",
      "env: WD=/Volumes/GoogleDrive/Shared drives/KGTK/datasets/wikidata-20200504\n"
     ]
    }
   ],
   "source": [
    "%env COVID=/Users/pedroszekely/data/covid/blender\n",
    "%env WD=/Volumes/GoogleDrive/Shared drives/KGTK/datasets/wikidata-20200504"
   ]
  },
  {
   "cell_type": "markdown",
   "metadata": {},
   "source": [
    "### Wikidata Data"
   ]
  },
  {
   "cell_type": "markdown",
   "metadata": {},
   "source": [
    "The Wikidata files are the large:\n",
    "\n",
    "* `wikidata_nodes_20200504.tsv.gz` the English labels, alias and descriptions for all items in Wikidata\n",
    "* `wikidata_edges_20200504.tsv.gz` the edges for all statements in Wikidata\n",
    "* `wikidata_qualifiers_20200504.tsv.gz` the qualifier edges for all statements in Wikidata"
   ]
  },
  {
   "cell_type": "code",
   "execution_count": 2,
   "metadata": {},
   "outputs": [
    {
     "name": "stdout",
     "output_type": "stream",
     "text": [
      "total 44833280\n",
      "-rw-------  1 pedroszekely  staff    21M May 11 14:19 P279.tsv.gz\n",
      "-rw-------  1 pedroszekely  staff   6.9M May 11 15:59 P279_star.tsv.gz\n",
      "-rw-------  1 pedroszekely  staff    12M May 11 14:29 P279_truncated.tsv.gz\n",
      "-rw-------  1 pedroszekely  staff   500M May 11 12:53 P31.tsv.gz\n",
      "-rw-------  1 pedroszekely  staff    16G May 11 04:09 wikidata_edges_20200504.tsv.gz\n",
      "-rw-------  1 pedroszekely  staff   2.2G May 11 03:22 wikidata_nodes_20200504.tsv.gz\n",
      "-rw-------  1 pedroszekely  staff   2.4G May 11 04:19 wikidata_qualifiers_20200504.tsv.gz\n"
     ]
    }
   ],
   "source": [
    "ls -lh \"$WD\""
   ]
  },
  {
   "cell_type": "markdown",
   "metadata": {},
   "source": [
    "Working with the dump files takes time because they are so large (86B chars and 1.1B lines), more than 6 minutes to just unzip and count lines"
   ]
  },
  {
   "cell_type": "code",
   "execution_count": 19,
   "metadata": {},
   "outputs": [
    {
     "name": "stdout",
     "output_type": "stream",
     "text": [
      " 1105944516 7412374276 86582473531\n",
      "\n",
      "real\t6m29.270s\n",
      "user\t8m28.469s\n",
      "sys\t1m17.519s\n"
     ]
    }
   ],
   "source": [
    "!time gzcat \"$WD/wikidata_edges_20200504.tsv.gz\" | wc"
   ]
  },
  {
   "cell_type": "markdown",
   "metadata": {},
   "source": [
    "The columns in the edge files:\n",
    "\n",
    "* `id` is a unique identifier for an edge, and provides an identifier for each statement in Wikidata\n",
    "* `node1`, `label` and `node2` are the item/property/value or subject/predicate/object\n",
    "* `rank` is the Wikidata rank for the statement\n",
    "* `node2;*` are additional columns that provide detailed information about the `node2` column, making it easy to parse"
   ]
  },
  {
   "cell_type": "code",
   "execution_count": 20,
   "metadata": {},
   "outputs": [
    {
     "name": "stdout",
     "output_type": "stream",
     "text": [
      "id\tnode1\tlabel\tnode2\trank\tnode2;magnitude\tnode2;unit\tnode2;date\tnode2;item\tnode2;lower\tnode2;upper\tnode2;latitude\tnode2;longitude\tnode2;precision\tnode2;calendar\tnode2;entity-type\n",
      "Q8-P1245-1\tQ8\tP1245\t\"885155\"\tnormal\t\t\t\t\t\t\t\t\t\t\t\n",
      "Q8-P373-1\tQ8\tP373\t\"Happiness\"\tnormal\t\t\t\t\t\t\t\t\t\t\t\n",
      "Q8-P31-1\tQ8\tP31\tQ331769\tnormal\t\t\t\tQ331769\t\t\t\t\t\t\titem\n",
      "Q8-P31-2\tQ8\tP31\tQ60539479\tnormal\t\t\t\tQ60539479\t\t\t\t\t\t\titem\n",
      "Q8-P31-3\tQ8\tP31\tQ9415\tnormal\t\t\t\tQ9415\t\t\t\t\t\t\titem\n",
      "Q8-P508-1\tQ8\tP508\t\"13163\"\tnormal\t\t\t\t\t\t\t\t\t\t\t\n",
      "Q8-P18-1\tQ8\tP18\t\"Sweet Baby Kisses Family Love.jpg\"\tnormal\t\t\t\t\t\t\t\t\t\t\t\n",
      "Q8-P910-1\tQ8\tP910\tQ8505256\tnormal\t\t\t\tQ8505256\t\t\t\t\t\t\titem\n",
      "Q8-P349-1\tQ8\tP349\t\"00566227\"\tnormal\t\t\t\t\t\t\t\t\t\t\t\n",
      "gzcat: error writing to output: Broken pipe\n",
      "gzcat: /Volumes/GoogleDrive/Shared drives/KGTK/datasets/wikidata-20200504/wikidata_edges_20200504.tsv.gz: uncompress failed\n"
     ]
    }
   ],
   "source": [
    "!gzcat \"$WD/wikidata_edges_20200504.tsv.gz\" | head"
   ]
  },
  {
   "cell_type": "markdown",
   "metadata": {},
   "source": [
    "### BLENDER Data"
   ]
  },
  {
   "cell_type": "markdown",
   "metadata": {},
   "source": [
    "The BLENDER data came in a JSON document per article. We used Python scripts to create simple TSV files that are easy to process.\n",
    "\n",
    "The `corpus-identifiers.tsv` file contains all the identifiers present in the BLENDER dataset with two columns:\n",
    "\n",
    "* node2: the value of the identifier\n",
    "* label: the name of the property in Wikidata used to represent the specific identifier. For example `P698` is PubMed ID. See https://www.wikidata.org/wiki/Q93157077"
   ]
  },
  {
   "cell_type": "code",
   "execution_count": 56,
   "metadata": {},
   "outputs": [
    {
     "data": {
      "text/html": [
       "<div>\n",
       "<style scoped>\n",
       "    .dataframe tbody tr th:only-of-type {\n",
       "        vertical-align: middle;\n",
       "    }\n",
       "\n",
       "    .dataframe tbody tr th {\n",
       "        vertical-align: top;\n",
       "    }\n",
       "\n",
       "    .dataframe thead th {\n",
       "        text-align: right;\n",
       "    }\n",
       "</style>\n",
       "<table border=\"1\" class=\"dataframe\">\n",
       "  <thead>\n",
       "    <tr style=\"text-align: right;\">\n",
       "      <th></th>\n",
       "      <th>node2</th>\n",
       "      <th>label</th>\n",
       "    </tr>\n",
       "  </thead>\n",
       "  <tbody>\n",
       "    <tr>\n",
       "      <th>0</th>\n",
       "      <td>PMC3670673</td>\n",
       "      <td>P932</td>\n",
       "    </tr>\n",
       "    <tr>\n",
       "      <th>1</th>\n",
       "      <td>3670673</td>\n",
       "      <td>P932</td>\n",
       "    </tr>\n",
       "    <tr>\n",
       "      <th>2</th>\n",
       "      <td>22621853</td>\n",
       "      <td>P698</td>\n",
       "    </tr>\n",
       "    <tr>\n",
       "      <th>3</th>\n",
       "      <td>9606</td>\n",
       "      <td>P685</td>\n",
       "    </tr>\n",
       "    <tr>\n",
       "      <th>4</th>\n",
       "      <td>851819</td>\n",
       "      <td>P351</td>\n",
       "    </tr>\n",
       "    <tr>\n",
       "      <th>...</th>\n",
       "      <td>...</td>\n",
       "      <td>...</td>\n",
       "    </tr>\n",
       "    <tr>\n",
       "      <th>139032</th>\n",
       "      <td>19423234</td>\n",
       "      <td>P698</td>\n",
       "    </tr>\n",
       "    <tr>\n",
       "      <th>139033</th>\n",
       "      <td>22609285</td>\n",
       "      <td>P698</td>\n",
       "    </tr>\n",
       "    <tr>\n",
       "      <th>139034</th>\n",
       "      <td>12781505</td>\n",
       "      <td>P698</td>\n",
       "    </tr>\n",
       "    <tr>\n",
       "      <th>139035</th>\n",
       "      <td>10028170</td>\n",
       "      <td>P698</td>\n",
       "    </tr>\n",
       "    <tr>\n",
       "      <th>139036</th>\n",
       "      <td>17961784</td>\n",
       "      <td>P698</td>\n",
       "    </tr>\n",
       "  </tbody>\n",
       "</table>\n",
       "<p>139037 rows × 2 columns</p>\n",
       "</div>"
      ],
      "text/plain": [
       "             node2 label\n",
       "0       PMC3670673  P932\n",
       "1          3670673  P932\n",
       "2         22621853  P698\n",
       "3             9606  P685\n",
       "4           851819  P351\n",
       "...            ...   ...\n",
       "139032    19423234  P698\n",
       "139033    22609285  P698\n",
       "139034    12781505  P698\n",
       "139035    10028170  P698\n",
       "139036    17961784  P698\n",
       "\n",
       "[139037 rows x 2 columns]"
      ]
     },
     "execution_count": 56,
     "metadata": {},
     "output_type": "execute_result"
    }
   ],
   "source": [
    "ids = pd.read_csv(os.getenv(\"COVID\")+'/corpus-identifiers.tsv', delimiter='\\t')\n",
    "ids"
   ]
  },
  {
   "cell_type": "markdown",
   "metadata": {},
   "source": [
    "## Extract Wikidata Subgraph"
   ]
  },
  {
   "cell_type": "markdown",
   "metadata": {},
   "source": [
    "### Step 1: find the `node1` for all the rows in `corpus-identifiers.tsv`"
   ]
  },
  {
   "cell_type": "markdown",
   "metadata": {},
   "source": [
    "We do this with the `kgtk ifexists` command to scan the file of all edges in Wikidata to select the ones where `label` and `node2` match the rows in `corpus-identifiers.tsv`. We store the results in `corpus-identifier-edges.tsv`"
   ]
  },
  {
   "cell_type": "code",
   "execution_count": 31,
   "metadata": {},
   "outputs": [
    {
     "name": "stdout",
     "output_type": "stream",
     "text": [
      "\n",
      "real\t50m53.543s\n",
      "user\t52m18.007s\n",
      "sys\t2m9.164s\n"
     ]
    }
   ],
   "source": [
    "!time gzcat \"$WD/wikidata_edges_20200504.tsv.gz\" \\\n",
    "  | kgtk ifexists --input-keys label node2 --filter-on $COVID/corpus-identifiers.tsv --filter-keys label node2 --filter-mode NONE \\\n",
    "  > $COVID/corpus-identifier-edges.tsv"
   ]
  },
  {
   "cell_type": "markdown",
   "metadata": {},
   "source": [
    "We found 72,649 q-nodes in Wikidata for the identifiers in our corpus. "
   ]
  },
  {
   "cell_type": "code",
   "execution_count": 105,
   "metadata": {},
   "outputs": [],
   "source": [
    "idedges = pd.read_csv(os.getenv(\"COVID\")+'/corpus-identifier-edges.tsv', delimiter='\\t', index_col=['id', 'node1', 'label'])\n",
    "#idedges.loc[:, [ 'node2']]"
   ]
  },
  {
   "cell_type": "code",
   "execution_count": 106,
   "metadata": {},
   "outputs": [
    {
     "data": {
      "text/html": [
       "<div>\n",
       "<style scoped>\n",
       "    .dataframe tbody tr th:only-of-type {\n",
       "        vertical-align: middle;\n",
       "    }\n",
       "\n",
       "    .dataframe tbody tr th {\n",
       "        vertical-align: top;\n",
       "    }\n",
       "\n",
       "    .dataframe thead th {\n",
       "        text-align: right;\n",
       "    }\n",
       "</style>\n",
       "<table border=\"1\" class=\"dataframe\">\n",
       "  <thead>\n",
       "    <tr style=\"text-align: right;\">\n",
       "      <th></th>\n",
       "      <th></th>\n",
       "      <th></th>\n",
       "      <th>node2</th>\n",
       "      <th>rank</th>\n",
       "      <th>node2;magnitude</th>\n",
       "      <th>node2;unit</th>\n",
       "      <th>node2;date</th>\n",
       "      <th>node2;item</th>\n",
       "      <th>node2;lower</th>\n",
       "      <th>node2;upper</th>\n",
       "      <th>node2;latitude</th>\n",
       "      <th>node2;longitude</th>\n",
       "      <th>node2;precision</th>\n",
       "      <th>node2;calendar</th>\n",
       "      <th>node2;entity-type</th>\n",
       "    </tr>\n",
       "    <tr>\n",
       "      <th>id</th>\n",
       "      <th>node1</th>\n",
       "      <th>label</th>\n",
       "      <th></th>\n",
       "      <th></th>\n",
       "      <th></th>\n",
       "      <th></th>\n",
       "      <th></th>\n",
       "      <th></th>\n",
       "      <th></th>\n",
       "      <th></th>\n",
       "      <th></th>\n",
       "      <th></th>\n",
       "      <th></th>\n",
       "      <th></th>\n",
       "      <th></th>\n",
       "    </tr>\n",
       "  </thead>\n",
       "  <tbody>\n",
       "    <tr>\n",
       "      <th>Q140-P685-1</th>\n",
       "      <th>Q140</th>\n",
       "      <th>P685</th>\n",
       "      <td>9689</td>\n",
       "      <td>normal</td>\n",
       "      <td>NaN</td>\n",
       "      <td>NaN</td>\n",
       "      <td>NaN</td>\n",
       "      <td>NaN</td>\n",
       "      <td>NaN</td>\n",
       "      <td>NaN</td>\n",
       "      <td>NaN</td>\n",
       "      <td>NaN</td>\n",
       "      <td>NaN</td>\n",
       "      <td>NaN</td>\n",
       "      <td>NaN</td>\n",
       "    </tr>\n",
       "    <tr>\n",
       "      <th>Q556-P486-1</th>\n",
       "      <th>Q556</th>\n",
       "      <th>P486</th>\n",
       "      <td>D006859</td>\n",
       "      <td>normal</td>\n",
       "      <td>NaN</td>\n",
       "      <td>NaN</td>\n",
       "      <td>NaN</td>\n",
       "      <td>NaN</td>\n",
       "      <td>NaN</td>\n",
       "      <td>NaN</td>\n",
       "      <td>NaN</td>\n",
       "      <td>NaN</td>\n",
       "      <td>NaN</td>\n",
       "      <td>NaN</td>\n",
       "      <td>NaN</td>\n",
       "    </tr>\n",
       "    <tr>\n",
       "      <th>Q688-P486-1</th>\n",
       "      <th>Q688</th>\n",
       "      <th>P486</th>\n",
       "      <td>D002713</td>\n",
       "      <td>normal</td>\n",
       "      <td>NaN</td>\n",
       "      <td>NaN</td>\n",
       "      <td>NaN</td>\n",
       "      <td>NaN</td>\n",
       "      <td>NaN</td>\n",
       "      <td>NaN</td>\n",
       "      <td>NaN</td>\n",
       "      <td>NaN</td>\n",
       "      <td>NaN</td>\n",
       "      <td>NaN</td>\n",
       "      <td>NaN</td>\n",
       "    </tr>\n",
       "    <tr>\n",
       "      <th>Q716-P486-1</th>\n",
       "      <th>Q716</th>\n",
       "      <th>P486</th>\n",
       "      <td>D014025</td>\n",
       "      <td>normal</td>\n",
       "      <td>NaN</td>\n",
       "      <td>NaN</td>\n",
       "      <td>NaN</td>\n",
       "      <td>NaN</td>\n",
       "      <td>NaN</td>\n",
       "      <td>NaN</td>\n",
       "      <td>NaN</td>\n",
       "      <td>NaN</td>\n",
       "      <td>NaN</td>\n",
       "      <td>NaN</td>\n",
       "      <td>NaN</td>\n",
       "    </tr>\n",
       "    <tr>\n",
       "      <th>Q1832-P486-1</th>\n",
       "      <th>Q1832</th>\n",
       "      <th>P486</th>\n",
       "      <td>D005682</td>\n",
       "      <td>normal</td>\n",
       "      <td>NaN</td>\n",
       "      <td>NaN</td>\n",
       "      <td>NaN</td>\n",
       "      <td>NaN</td>\n",
       "      <td>NaN</td>\n",
       "      <td>NaN</td>\n",
       "      <td>NaN</td>\n",
       "      <td>NaN</td>\n",
       "      <td>NaN</td>\n",
       "      <td>NaN</td>\n",
       "      <td>NaN</td>\n",
       "    </tr>\n",
       "    <tr>\n",
       "      <th>...</th>\n",
       "      <th>...</th>\n",
       "      <th>...</th>\n",
       "      <td>...</td>\n",
       "      <td>...</td>\n",
       "      <td>...</td>\n",
       "      <td>...</td>\n",
       "      <td>...</td>\n",
       "      <td>...</td>\n",
       "      <td>...</td>\n",
       "      <td>...</td>\n",
       "      <td>...</td>\n",
       "      <td>...</td>\n",
       "      <td>...</td>\n",
       "      <td>...</td>\n",
       "      <td>...</td>\n",
       "    </tr>\n",
       "    <tr>\n",
       "      <th>Q93147847-P932-1</th>\n",
       "      <th>Q93147847</th>\n",
       "      <th>P932</th>\n",
       "      <td>6730851</td>\n",
       "      <td>normal</td>\n",
       "      <td>NaN</td>\n",
       "      <td>NaN</td>\n",
       "      <td>NaN</td>\n",
       "      <td>NaN</td>\n",
       "      <td>NaN</td>\n",
       "      <td>NaN</td>\n",
       "      <td>NaN</td>\n",
       "      <td>NaN</td>\n",
       "      <td>NaN</td>\n",
       "      <td>NaN</td>\n",
       "      <td>NaN</td>\n",
       "    </tr>\n",
       "    <tr>\n",
       "      <th>Q93157077-P698-1</th>\n",
       "      <th>Q93157077</th>\n",
       "      <th>P698</th>\n",
       "      <td>31492122</td>\n",
       "      <td>normal</td>\n",
       "      <td>NaN</td>\n",
       "      <td>NaN</td>\n",
       "      <td>NaN</td>\n",
       "      <td>NaN</td>\n",
       "      <td>NaN</td>\n",
       "      <td>NaN</td>\n",
       "      <td>NaN</td>\n",
       "      <td>NaN</td>\n",
       "      <td>NaN</td>\n",
       "      <td>NaN</td>\n",
       "      <td>NaN</td>\n",
       "    </tr>\n",
       "    <tr>\n",
       "      <th>Q93157077-P932-1</th>\n",
       "      <th>Q93157077</th>\n",
       "      <th>P932</th>\n",
       "      <td>6731609</td>\n",
       "      <td>normal</td>\n",
       "      <td>NaN</td>\n",
       "      <td>NaN</td>\n",
       "      <td>NaN</td>\n",
       "      <td>NaN</td>\n",
       "      <td>NaN</td>\n",
       "      <td>NaN</td>\n",
       "      <td>NaN</td>\n",
       "      <td>NaN</td>\n",
       "      <td>NaN</td>\n",
       "      <td>NaN</td>\n",
       "      <td>NaN</td>\n",
       "    </tr>\n",
       "    <tr>\n",
       "      <th>Q93157501-P698-1</th>\n",
       "      <th>Q93157501</th>\n",
       "      <th>P698</th>\n",
       "      <td>31492169</td>\n",
       "      <td>normal</td>\n",
       "      <td>NaN</td>\n",
       "      <td>NaN</td>\n",
       "      <td>NaN</td>\n",
       "      <td>NaN</td>\n",
       "      <td>NaN</td>\n",
       "      <td>NaN</td>\n",
       "      <td>NaN</td>\n",
       "      <td>NaN</td>\n",
       "      <td>NaN</td>\n",
       "      <td>NaN</td>\n",
       "      <td>NaN</td>\n",
       "    </tr>\n",
       "    <tr>\n",
       "      <th>Q93157501-P932-1</th>\n",
       "      <th>Q93157501</th>\n",
       "      <th>P932</th>\n",
       "      <td>6729025</td>\n",
       "      <td>normal</td>\n",
       "      <td>NaN</td>\n",
       "      <td>NaN</td>\n",
       "      <td>NaN</td>\n",
       "      <td>NaN</td>\n",
       "      <td>NaN</td>\n",
       "      <td>NaN</td>\n",
       "      <td>NaN</td>\n",
       "      <td>NaN</td>\n",
       "      <td>NaN</td>\n",
       "      <td>NaN</td>\n",
       "      <td>NaN</td>\n",
       "    </tr>\n",
       "  </tbody>\n",
       "</table>\n",
       "<p>72649 rows × 13 columns</p>\n",
       "</div>"
      ],
      "text/plain": [
       "                                     node2    rank  node2;magnitude  \\\n",
       "id               node1     label                                      \n",
       "Q140-P685-1      Q140      P685       9689  normal              NaN   \n",
       "Q556-P486-1      Q556      P486    D006859  normal              NaN   \n",
       "Q688-P486-1      Q688      P486    D002713  normal              NaN   \n",
       "Q716-P486-1      Q716      P486    D014025  normal              NaN   \n",
       "Q1832-P486-1     Q1832     P486    D005682  normal              NaN   \n",
       "...                                    ...     ...              ...   \n",
       "Q93147847-P932-1 Q93147847 P932    6730851  normal              NaN   \n",
       "Q93157077-P698-1 Q93157077 P698   31492122  normal              NaN   \n",
       "Q93157077-P932-1 Q93157077 P932    6731609  normal              NaN   \n",
       "Q93157501-P698-1 Q93157501 P698   31492169  normal              NaN   \n",
       "Q93157501-P932-1 Q93157501 P932    6729025  normal              NaN   \n",
       "\n",
       "                                  node2;unit  node2;date  node2;item  \\\n",
       "id               node1     label                                       \n",
       "Q140-P685-1      Q140      P685          NaN         NaN         NaN   \n",
       "Q556-P486-1      Q556      P486          NaN         NaN         NaN   \n",
       "Q688-P486-1      Q688      P486          NaN         NaN         NaN   \n",
       "Q716-P486-1      Q716      P486          NaN         NaN         NaN   \n",
       "Q1832-P486-1     Q1832     P486          NaN         NaN         NaN   \n",
       "...                                      ...         ...         ...   \n",
       "Q93147847-P932-1 Q93147847 P932          NaN         NaN         NaN   \n",
       "Q93157077-P698-1 Q93157077 P698          NaN         NaN         NaN   \n",
       "Q93157077-P932-1 Q93157077 P932          NaN         NaN         NaN   \n",
       "Q93157501-P698-1 Q93157501 P698          NaN         NaN         NaN   \n",
       "Q93157501-P932-1 Q93157501 P932          NaN         NaN         NaN   \n",
       "\n",
       "                                  node2;lower  node2;upper  node2;latitude  \\\n",
       "id               node1     label                                             \n",
       "Q140-P685-1      Q140      P685           NaN          NaN             NaN   \n",
       "Q556-P486-1      Q556      P486           NaN          NaN             NaN   \n",
       "Q688-P486-1      Q688      P486           NaN          NaN             NaN   \n",
       "Q716-P486-1      Q716      P486           NaN          NaN             NaN   \n",
       "Q1832-P486-1     Q1832     P486           NaN          NaN             NaN   \n",
       "...                                       ...          ...             ...   \n",
       "Q93147847-P932-1 Q93147847 P932           NaN          NaN             NaN   \n",
       "Q93157077-P698-1 Q93157077 P698           NaN          NaN             NaN   \n",
       "Q93157077-P932-1 Q93157077 P932           NaN          NaN             NaN   \n",
       "Q93157501-P698-1 Q93157501 P698           NaN          NaN             NaN   \n",
       "Q93157501-P932-1 Q93157501 P932           NaN          NaN             NaN   \n",
       "\n",
       "                                  node2;longitude  node2;precision  \\\n",
       "id               node1     label                                     \n",
       "Q140-P685-1      Q140      P685               NaN              NaN   \n",
       "Q556-P486-1      Q556      P486               NaN              NaN   \n",
       "Q688-P486-1      Q688      P486               NaN              NaN   \n",
       "Q716-P486-1      Q716      P486               NaN              NaN   \n",
       "Q1832-P486-1     Q1832     P486               NaN              NaN   \n",
       "...                                           ...              ...   \n",
       "Q93147847-P932-1 Q93147847 P932               NaN              NaN   \n",
       "Q93157077-P698-1 Q93157077 P698               NaN              NaN   \n",
       "Q93157077-P932-1 Q93157077 P932               NaN              NaN   \n",
       "Q93157501-P698-1 Q93157501 P698               NaN              NaN   \n",
       "Q93157501-P932-1 Q93157501 P932               NaN              NaN   \n",
       "\n",
       "                                  node2;calendar  node2;entity-type  \n",
       "id               node1     label                                     \n",
       "Q140-P685-1      Q140      P685              NaN                NaN  \n",
       "Q556-P486-1      Q556      P486              NaN                NaN  \n",
       "Q688-P486-1      Q688      P486              NaN                NaN  \n",
       "Q716-P486-1      Q716      P486              NaN                NaN  \n",
       "Q1832-P486-1     Q1832     P486              NaN                NaN  \n",
       "...                                          ...                ...  \n",
       "Q93147847-P932-1 Q93147847 P932              NaN                NaN  \n",
       "Q93157077-P698-1 Q93157077 P698              NaN                NaN  \n",
       "Q93157077-P932-1 Q93157077 P932              NaN                NaN  \n",
       "Q93157501-P698-1 Q93157501 P698              NaN                NaN  \n",
       "Q93157501-P932-1 Q93157501 P932              NaN                NaN  \n",
       "\n",
       "[72649 rows x 13 columns]"
      ]
     },
     "execution_count": 106,
     "metadata": {},
     "output_type": "execute_result"
    }
   ],
   "source": [
    "idedges"
   ]
  },
  {
   "cell_type": "markdown",
   "metadata": {},
   "source": [
    "Here are the counts of the q-nodes we found in Wikidata for each property."
   ]
  },
  {
   "cell_type": "code",
   "execution_count": 101,
   "metadata": {},
   "outputs": [
    {
     "data": {
      "text/plain": [
       "P698     20426\n",
       "P351     18235\n",
       "P932     14169\n",
       "P486     10096\n",
       "P685      9721\n",
       "P5055        2\n",
       "Name: label, dtype: int64"
      ]
     },
     "execution_count": 101,
     "metadata": {},
     "output_type": "execute_result"
    }
   ],
   "source": [
    "idedges.label.value_counts()"
   ]
  },
  {
   "cell_type": "markdown",
   "metadata": {},
   "source": [
    "### Step 2: get all the edges from Wikidata for the q-nodes in `corpus-identifier-edges.tsv`"
   ]
  },
  {
   "cell_type": "markdown",
   "metadata": {},
   "source": [
    "To do this, we again scan all the edges in Wikidata looking for edges whose `node1` matches the `node1` in `corpus-identifier-edges.tsv`"
   ]
  },
  {
   "cell_type": "code",
   "execution_count": 32,
   "metadata": {},
   "outputs": [
    {
     "name": "stdout",
     "output_type": "stream",
     "text": [
      "\n",
      "real\t42m33.188s\n",
      "user\t44m19.812s\n",
      "sys\t1m50.926s\n"
     ]
    }
   ],
   "source": [
    "!time gzcat \"$WD/wikidata_edges_20200504.tsv.gz\" \\\n",
    "  | kgtk ifexists --input-keys node1 --filter-on $COVID/corpus-identifier-edges.tsv --filter-keys node1 \\\n",
    "  > $COVID/corpus-edges.tsv"
   ]
  },
  {
   "cell_type": "markdown",
   "metadata": {},
   "source": [
    "We now have 2.2 million edges for the entities in our corpus."
   ]
  },
  {
   "cell_type": "code",
   "execution_count": 34,
   "metadata": {},
   "outputs": [
    {
     "name": "stdout",
     "output_type": "stream",
     "text": [
      " 2297783 13662891 176151115 /Users/pedroszekely/data/covid/blender/corpus-edges.tsv\n"
     ]
    }
   ],
   "source": [
    "!wc $COVID/corpus-edges.tsv"
   ]
  },
  {
   "cell_type": "markdown",
   "metadata": {},
   "source": [
    "We can use Pandas to explore the data"
   ]
  },
  {
   "cell_type": "code",
   "execution_count": 4,
   "metadata": {},
   "outputs": [
    {
     "name": "stderr",
     "output_type": "stream",
     "text": [
      "/Users/pedroszekely/opt/anaconda3/envs/kgtk-env/lib/python3.7/site-packages/IPython/core/interactiveshell.py:3063: DtypeWarning: Columns (6,7,14) have mixed types.Specify dtype option on import or set low_memory=False.\n",
      "  interactivity=interactivity, compiler=compiler, result=result)\n"
     ]
    }
   ],
   "source": [
    "ce = pd.read_csv(os.getenv(\"COVID\")+'/corpus-edges.tsv', delimiter='\\t', index_col=['id'])\n",
    "#ce.loc[:, [ 'node2']]"
   ]
  },
  {
   "cell_type": "code",
   "execution_count": 5,
   "metadata": {},
   "outputs": [
    {
     "data": {
      "text/html": [
       "<div>\n",
       "<style scoped>\n",
       "    .dataframe tbody tr th:only-of-type {\n",
       "        vertical-align: middle;\n",
       "    }\n",
       "\n",
       "    .dataframe tbody tr th {\n",
       "        vertical-align: top;\n",
       "    }\n",
       "\n",
       "    .dataframe thead th {\n",
       "        text-align: right;\n",
       "    }\n",
       "</style>\n",
       "<table border=\"1\" class=\"dataframe\">\n",
       "  <thead>\n",
       "    <tr style=\"text-align: right;\">\n",
       "      <th></th>\n",
       "      <th>node1</th>\n",
       "      <th>label</th>\n",
       "      <th>node2</th>\n",
       "      <th>node2;entity-type</th>\n",
       "    </tr>\n",
       "    <tr>\n",
       "      <th>id</th>\n",
       "      <th></th>\n",
       "      <th></th>\n",
       "      <th></th>\n",
       "      <th></th>\n",
       "    </tr>\n",
       "  </thead>\n",
       "  <tbody>\n",
       "    <tr>\n",
       "      <th>Q140-P225-1</th>\n",
       "      <td>Q140</td>\n",
       "      <td>P225</td>\n",
       "      <td>Panthera leo</td>\n",
       "      <td>NaN</td>\n",
       "    </tr>\n",
       "    <tr>\n",
       "      <th>Q140-P105-1</th>\n",
       "      <td>Q140</td>\n",
       "      <td>P105</td>\n",
       "      <td>Q7432</td>\n",
       "      <td>item</td>\n",
       "    </tr>\n",
       "    <tr>\n",
       "      <th>Q140-P171-1</th>\n",
       "      <td>Q140</td>\n",
       "      <td>P171</td>\n",
       "      <td>Q127960</td>\n",
       "      <td>item</td>\n",
       "    </tr>\n",
       "    <tr>\n",
       "      <th>Q140-P31-1</th>\n",
       "      <td>Q140</td>\n",
       "      <td>P31</td>\n",
       "      <td>Q16521</td>\n",
       "      <td>item</td>\n",
       "    </tr>\n",
       "    <tr>\n",
       "      <th>Q140-P1403-1</th>\n",
       "      <td>Q140</td>\n",
       "      <td>P1403</td>\n",
       "      <td>Q15294488</td>\n",
       "      <td>item</td>\n",
       "    </tr>\n",
       "  </tbody>\n",
       "</table>\n",
       "</div>"
      ],
      "text/plain": [
       "             node1  label         node2 node2;entity-type\n",
       "id                                                       \n",
       "Q140-P225-1   Q140   P225  Panthera leo               NaN\n",
       "Q140-P105-1   Q140   P105         Q7432              item\n",
       "Q140-P171-1   Q140   P171       Q127960              item\n",
       "Q140-P31-1    Q140    P31        Q16521              item\n",
       "Q140-P1403-1  Q140  P1403     Q15294488              item"
      ]
     },
     "execution_count": 5,
     "metadata": {},
     "output_type": "execute_result"
    }
   ],
   "source": [
    "ce.loc[:, ['node1', 'label', 'node2', 'node2;entity-type']].head(5)"
   ]
  },
  {
   "cell_type": "code",
   "execution_count": 6,
   "metadata": {},
   "outputs": [
    {
     "data": {
      "text/html": [
       "<div>\n",
       "<style scoped>\n",
       "    .dataframe tbody tr th:only-of-type {\n",
       "        vertical-align: middle;\n",
       "    }\n",
       "\n",
       "    .dataframe tbody tr th {\n",
       "        vertical-align: top;\n",
       "    }\n",
       "\n",
       "    .dataframe thead th {\n",
       "        text-align: right;\n",
       "    }\n",
       "</style>\n",
       "<table border=\"1\" class=\"dataframe\">\n",
       "  <thead>\n",
       "    <tr style=\"text-align: right;\">\n",
       "      <th></th>\n",
       "      <th>node1</th>\n",
       "      <th>label</th>\n",
       "      <th>node2</th>\n",
       "      <th>node2;entity-type</th>\n",
       "    </tr>\n",
       "    <tr>\n",
       "      <th>id</th>\n",
       "      <th></th>\n",
       "      <th></th>\n",
       "      <th></th>\n",
       "      <th></th>\n",
       "    </tr>\n",
       "  </thead>\n",
       "  <tbody>\n",
       "    <tr>\n",
       "      <th>Q140-P105-1</th>\n",
       "      <td>Q140</td>\n",
       "      <td>P105</td>\n",
       "      <td>Q7432</td>\n",
       "      <td>item</td>\n",
       "    </tr>\n",
       "    <tr>\n",
       "      <th>Q140-P171-1</th>\n",
       "      <td>Q140</td>\n",
       "      <td>P171</td>\n",
       "      <td>Q127960</td>\n",
       "      <td>item</td>\n",
       "    </tr>\n",
       "    <tr>\n",
       "      <th>Q140-P31-1</th>\n",
       "      <td>Q140</td>\n",
       "      <td>P31</td>\n",
       "      <td>Q16521</td>\n",
       "      <td>item</td>\n",
       "    </tr>\n",
       "    <tr>\n",
       "      <th>Q140-P1403-1</th>\n",
       "      <td>Q140</td>\n",
       "      <td>P1403</td>\n",
       "      <td>Q15294488</td>\n",
       "      <td>item</td>\n",
       "    </tr>\n",
       "    <tr>\n",
       "      <th>Q140-P141-1</th>\n",
       "      <td>Q140</td>\n",
       "      <td>P141</td>\n",
       "      <td>Q278113</td>\n",
       "      <td>item</td>\n",
       "    </tr>\n",
       "    <tr>\n",
       "      <th>...</th>\n",
       "      <td>...</td>\n",
       "      <td>...</td>\n",
       "      <td>...</td>\n",
       "      <td>...</td>\n",
       "    </tr>\n",
       "    <tr>\n",
       "      <th>Q93157077-P50-1</th>\n",
       "      <td>Q93157077</td>\n",
       "      <td>P50</td>\n",
       "      <td>Q93157070</td>\n",
       "      <td>item</td>\n",
       "    </tr>\n",
       "    <tr>\n",
       "      <th>Q93157077-P921-1</th>\n",
       "      <td>Q93157077</td>\n",
       "      <td>P921</td>\n",
       "      <td>Q12184</td>\n",
       "      <td>item</td>\n",
       "    </tr>\n",
       "    <tr>\n",
       "      <th>Q93157501-P1433-1</th>\n",
       "      <td>Q93157501</td>\n",
       "      <td>P1433</td>\n",
       "      <td>Q15752156</td>\n",
       "      <td>item</td>\n",
       "    </tr>\n",
       "    <tr>\n",
       "      <th>Q93157501-P31-1</th>\n",
       "      <td>Q93157501</td>\n",
       "      <td>P31</td>\n",
       "      <td>Q13442814</td>\n",
       "      <td>item</td>\n",
       "    </tr>\n",
       "    <tr>\n",
       "      <th>Q93157501-P50-1</th>\n",
       "      <td>Q93157501</td>\n",
       "      <td>P50</td>\n",
       "      <td>Q92401632</td>\n",
       "      <td>item</td>\n",
       "    </tr>\n",
       "  </tbody>\n",
       "</table>\n",
       "<p>907825 rows × 4 columns</p>\n",
       "</div>"
      ],
      "text/plain": [
       "                       node1  label      node2 node2;entity-type\n",
       "id                                                              \n",
       "Q140-P105-1             Q140   P105      Q7432              item\n",
       "Q140-P171-1             Q140   P171    Q127960              item\n",
       "Q140-P31-1              Q140    P31     Q16521              item\n",
       "Q140-P1403-1            Q140  P1403  Q15294488              item\n",
       "Q140-P141-1             Q140   P141    Q278113              item\n",
       "...                      ...    ...        ...               ...\n",
       "Q93157077-P50-1    Q93157077    P50  Q93157070              item\n",
       "Q93157077-P921-1   Q93157077   P921     Q12184              item\n",
       "Q93157501-P1433-1  Q93157501  P1433  Q15752156              item\n",
       "Q93157501-P31-1    Q93157501    P31  Q13442814              item\n",
       "Q93157501-P50-1    Q93157501    P50  Q92401632              item\n",
       "\n",
       "[907825 rows x 4 columns]"
      ]
     },
     "execution_count": 6,
     "metadata": {},
     "output_type": "execute_result"
    }
   ],
   "source": [
    "ce[ce['node2;entity-type']=='item'].loc[:, ['node1', 'label', 'node2', 'node2;entity-type']]"
   ]
  },
  {
   "cell_type": "code",
   "execution_count": 138,
   "metadata": {},
   "outputs": [
    {
     "data": {
      "text/plain": [
       "P2860    540720\n",
       "P31       62617\n",
       "P684      52486\n",
       "P279      28076\n",
       "P50       25283\n",
       "          ...  \n",
       "P1914         1\n",
       "P4774         1\n",
       "P4954         1\n",
       "P5166         1\n",
       "P1913         1\n",
       "Name: label, Length: 221, dtype: int64"
      ]
     },
     "execution_count": 138,
     "metadata": {},
     "output_type": "execute_result"
    }
   ],
   "source": [
    "ce[ce['node2;entity-type']=='item'].label.value_counts()"
   ]
  },
  {
   "cell_type": "code",
   "execution_count": 89,
   "metadata": {},
   "outputs": [
    {
     "data": {
      "text/plain": [
       "P2860                 540720\n",
       "wikipedia_sitelink    300857\n",
       "P704                  120845\n",
       "P2093                 109421\n",
       "P639                   87783\n",
       "P31                    62617\n",
       "P684                   52486\n",
       "P1843                  38031\n",
       "P279                   28076\n",
       "P2888                  26496\n",
       "P645                   25676\n",
       "P644                   25670\n",
       "P50                    25283\n",
       "P577                   20699\n",
       "P1476                  20479\n",
       "P698                   20438\n",
       "P1433                  20413\n",
       "P356                   20197\n",
       "P478                   20164\n",
       "P688                   19353\n",
       "Name: label, dtype: int64"
      ]
     },
     "execution_count": 89,
     "metadata": {},
     "output_type": "execute_result"
    }
   ],
   "source": [
    "ce.label.value_counts()[0:20]"
   ]
  },
  {
   "cell_type": "markdown",
   "metadata": {},
   "source": [
    "We can use the Wikidata cli to see what the top properties:"
   ]
  },
  {
   "cell_type": "code",
   "execution_count": 74,
   "metadata": {},
   "outputs": [
    {
     "name": "stdout",
     "output_type": "stream",
     "text": [
      "\u001b[90mid\u001b[39m P2860\n",
      "\u001b[42mLabel\u001b[49m cites work\n",
      "\u001b[44mDescription\u001b[49m citation from one creative work to another\n",
      "\u001b[30m\u001b[47minstance of\u001b[49m\u001b[39m \u001b[90m(P31)\u001b[39m\u001b[90m: \u001b[39mWikidata property for items about works \u001b[90m(Q18618644)\u001b[39m\n",
      "\n",
      "\u001b[90mid\u001b[39m P704\n",
      "\u001b[42mLabel\u001b[49m Ensembl transcript ID\n",
      "\u001b[44mDescription\u001b[49m transcript ID issued by Ensembl database\n",
      "\u001b[30m\u001b[47minstance of\u001b[49m\u001b[39m \u001b[90m(P31)\u001b[39m\u001b[90m: \u001b[39mWikidata property for an identifier \u001b[90m(Q19847637)\u001b[39m | Wikidata property related to medicine \u001b[90m(Q19887775)\u001b[39m\n",
      "\n",
      "\u001b[90mid\u001b[39m P2093\n",
      "\u001b[42mLabel\u001b[49m author name string\n",
      "\u001b[44mDescription\u001b[49m string to store unspecified author name for publications; use if Wikidata item for author (P50) does not exist or is not known\n",
      "\u001b[30m\u001b[47minstance of\u001b[49m\u001b[39m \u001b[90m(P31)\u001b[39m\u001b[90m: \u001b[39mWikidata property for items about works \u001b[90m(Q18618644)\u001b[39m | Wikidata property with datatype string that is not an external identifier \u001b[90m(Q21099935)\u001b[39m | Wikidata property to indicate a source \u001b[90m(Q18608359)\u001b[39m\n"
     ]
    }
   ],
   "source": [
    "!wd u P2860, P704, P2093"
   ]
  },
  {
   "cell_type": "markdown",
   "metadata": {},
   "source": [
    "How many authors have items in Wikidata?"
   ]
  },
  {
   "cell_type": "code",
   "execution_count": 95,
   "metadata": {},
   "outputs": [
    {
     "data": {
      "text/plain": [
       "Q13442814    20473\n",
       "Q7187        18221\n",
       "Q20747295    15858\n",
       "Q15978631    10696\n",
       "Q16521        9503\n",
       "Q7432         9053\n",
       "Q22809680     8136\n",
       "Q22809711     8090\n",
       "Q1860         7786\n",
       "Q83310        4767\n",
       "1             3385\n",
       "Q11173        3128\n",
       "Q12136        3011\n",
       "2             2207\n",
       "3             2058\n",
       "4             2008\n",
       "6             1898\n",
       "Q211005       1883\n",
       "5             1638\n",
       "7             1603\n",
       "Name: node2, dtype: int64"
      ]
     },
     "execution_count": 95,
     "metadata": {},
     "output_type": "execute_result"
    }
   ],
   "source": [
    "ce.node2.value_counts()[0:20]"
   ]
  },
  {
   "cell_type": "code",
   "execution_count": 96,
   "metadata": {},
   "outputs": [
    {
     "name": "stdout",
     "output_type": "stream",
     "text": [
      "\u001b[90mid\u001b[39m Q13442814\n",
      "\u001b[42mLabel\u001b[49m scholarly article\n",
      "\u001b[44mDescription\u001b[49m article in an academic publication, usually peer reviewed\n",
      "\u001b[30m\u001b[47msubclass of\u001b[49m\u001b[39m \u001b[90m(P279)\u001b[39m\u001b[90m: \u001b[39mscholarly publication \u001b[90m(Q591041)\u001b[39m | article \u001b[90m(Q191067)\u001b[39m | scholarly work \u001b[90m(Q55915575)\u001b[39m\n",
      "\n",
      "\u001b[90mid\u001b[39m Q7187\n",
      "\u001b[42mLabel\u001b[49m gene\n",
      "\u001b[44mDescription\u001b[49m basic physical and functional unit of heredity\n",
      "\u001b[30m\u001b[47msubclass of\u001b[49m\u001b[39m \u001b[90m(P279)\u001b[39m\u001b[90m: \u001b[39mNucleic acid sequence \u001b[90m(Q863908)\u001b[39m | biological region \u001b[90m(Q50365914)\u001b[39m | biological sequence \u001b[90m(Q3511065)\u001b[39m\n",
      "\n",
      "\u001b[90mid\u001b[39m Q20747295\n",
      "\u001b[42mLabel\u001b[49m protein-coding gene\n",
      "\u001b[44mDescription\u001b[49m Type of a gene\n",
      "\u001b[30m\u001b[47msubclass of\u001b[49m\u001b[39m \u001b[90m(P279)\u001b[39m\u001b[90m: \u001b[39mgene \u001b[90m(Q7187)\u001b[39m\n",
      "\n",
      "\u001b[90mid\u001b[39m Q15978631\n",
      "\u001b[42mLabel\u001b[49m Homo sapiens\n",
      "\u001b[44mDescription\u001b[49m species of mammal\n",
      "\u001b[30m\u001b[47minstance of\u001b[49m\u001b[39m \u001b[90m(P31)\u001b[39m\u001b[90m: \u001b[39mtaxon \u001b[90m(Q16521)\u001b[39m\n"
     ]
    }
   ],
   "source": [
    "!wd u Q13442814, Q7187, Q20747295, Q15978631"
   ]
  },
  {
   "cell_type": "code",
   "execution_count": 77,
   "metadata": {},
   "outputs": [
    {
     "name": "stdout",
     "output_type": "stream",
     "text": [
      "   25284\n"
     ]
    }
   ],
   "source": [
    "!kgtk filter -p ';P50;' $COVID/corpus-edges.tsv | wc -l"
   ]
  },
  {
   "cell_type": "markdown",
   "metadata": {},
   "source": [
    "### Step 3:"
   ]
  },
  {
   "cell_type": "code",
   "execution_count": 79,
   "metadata": {},
   "outputs": [],
   "source": [
    "!kgtk filter -p ';P50, P2860;' $COVID/corpus-edges.tsv > $COVID/citation-and-author-edges.tsv"
   ]
  },
  {
   "cell_type": "code",
   "execution_count": 80,
   "metadata": {},
   "outputs": [
    {
     "data": {
      "text/html": [
       "<div>\n",
       "<style scoped>\n",
       "    .dataframe tbody tr th:only-of-type {\n",
       "        vertical-align: middle;\n",
       "    }\n",
       "\n",
       "    .dataframe tbody tr th {\n",
       "        vertical-align: top;\n",
       "    }\n",
       "\n",
       "    .dataframe thead th {\n",
       "        text-align: right;\n",
       "    }\n",
       "</style>\n",
       "<table border=\"1\" class=\"dataframe\">\n",
       "  <thead>\n",
       "    <tr style=\"text-align: right;\">\n",
       "      <th></th>\n",
       "      <th>id</th>\n",
       "      <th>node1</th>\n",
       "      <th>label</th>\n",
       "      <th>node2</th>\n",
       "    </tr>\n",
       "  </thead>\n",
       "  <tbody>\n",
       "    <tr>\n",
       "      <th>0</th>\n",
       "      <td>Q21090495-P2860-1</td>\n",
       "      <td>Q21090495</td>\n",
       "      <td>P2860</td>\n",
       "      <td>Q24611162</td>\n",
       "    </tr>\n",
       "    <tr>\n",
       "      <th>1</th>\n",
       "      <td>Q21090495-P2860-2</td>\n",
       "      <td>Q21090495</td>\n",
       "      <td>P2860</td>\n",
       "      <td>Q24655519</td>\n",
       "    </tr>\n",
       "    <tr>\n",
       "      <th>2</th>\n",
       "      <td>Q21090495-P2860-3</td>\n",
       "      <td>Q21090495</td>\n",
       "      <td>P2860</td>\n",
       "      <td>Q22065976</td>\n",
       "    </tr>\n",
       "    <tr>\n",
       "      <th>3</th>\n",
       "      <td>Q21090495-P2860-4</td>\n",
       "      <td>Q21090495</td>\n",
       "      <td>P2860</td>\n",
       "      <td>Q24650035</td>\n",
       "    </tr>\n",
       "    <tr>\n",
       "      <th>4</th>\n",
       "      <td>Q21090495-P2860-5</td>\n",
       "      <td>Q21090495</td>\n",
       "      <td>P2860</td>\n",
       "      <td>Q24684593</td>\n",
       "    </tr>\n",
       "    <tr>\n",
       "      <th>...</th>\n",
       "      <td>...</td>\n",
       "      <td>...</td>\n",
       "      <td>...</td>\n",
       "      <td>...</td>\n",
       "    </tr>\n",
       "    <tr>\n",
       "      <th>565998</th>\n",
       "      <td>Q93147847-P50-1</td>\n",
       "      <td>Q93147847</td>\n",
       "      <td>P50</td>\n",
       "      <td>Q61104970</td>\n",
       "    </tr>\n",
       "    <tr>\n",
       "      <th>565999</th>\n",
       "      <td>Q93147847-P50-2</td>\n",
       "      <td>Q93147847</td>\n",
       "      <td>P50</td>\n",
       "      <td>Q90414144</td>\n",
       "    </tr>\n",
       "    <tr>\n",
       "      <th>566000</th>\n",
       "      <td>Q93147847-P50-3</td>\n",
       "      <td>Q93147847</td>\n",
       "      <td>P50</td>\n",
       "      <td>Q87706998</td>\n",
       "    </tr>\n",
       "    <tr>\n",
       "      <th>566001</th>\n",
       "      <td>Q93157077-P50-1</td>\n",
       "      <td>Q93157077</td>\n",
       "      <td>P50</td>\n",
       "      <td>Q93157070</td>\n",
       "    </tr>\n",
       "    <tr>\n",
       "      <th>566002</th>\n",
       "      <td>Q93157501-P50-1</td>\n",
       "      <td>Q93157501</td>\n",
       "      <td>P50</td>\n",
       "      <td>Q92401632</td>\n",
       "    </tr>\n",
       "  </tbody>\n",
       "</table>\n",
       "<p>566003 rows × 4 columns</p>\n",
       "</div>"
      ],
      "text/plain": [
       "                       id      node1  label      node2\n",
       "0       Q21090495-P2860-1  Q21090495  P2860  Q24611162\n",
       "1       Q21090495-P2860-2  Q21090495  P2860  Q24655519\n",
       "2       Q21090495-P2860-3  Q21090495  P2860  Q22065976\n",
       "3       Q21090495-P2860-4  Q21090495  P2860  Q24650035\n",
       "4       Q21090495-P2860-5  Q21090495  P2860  Q24684593\n",
       "...                   ...        ...    ...        ...\n",
       "565998    Q93147847-P50-1  Q93147847    P50  Q61104970\n",
       "565999    Q93147847-P50-2  Q93147847    P50  Q90414144\n",
       "566000    Q93147847-P50-3  Q93147847    P50  Q87706998\n",
       "566001    Q93157077-P50-1  Q93157077    P50  Q93157070\n",
       "566002    Q93157501-P50-1  Q93157501    P50  Q92401632\n",
       "\n",
       "[566003 rows x 4 columns]"
      ]
     },
     "execution_count": 80,
     "metadata": {},
     "output_type": "execute_result"
    }
   ],
   "source": [
    "caae = pd.read_csv(os.getenv(\"COVID\")+'/citation-and-author-edges.tsv', delimiter='\\t')\n",
    "caae.loc[:, ['id', 'node1', 'label', 'node2']]"
   ]
  },
  {
   "cell_type": "markdown",
   "metadata": {},
   "source": [
    "Let's look at some of the items we got"
   ]
  },
  {
   "cell_type": "code",
   "execution_count": 81,
   "metadata": {},
   "outputs": [
    {
     "name": "stdout",
     "output_type": "stream",
     "text": [
      "\u001b[90mid\u001b[39m Q24611162\n",
      "\u001b[42mLabel\u001b[49m Viral mutation rates\n",
      "\u001b[44mDescription\u001b[49m scientific article\n",
      "\u001b[30m\u001b[47minstance of\u001b[49m\u001b[39m \u001b[90m(P31)\u001b[39m\u001b[90m: \u001b[39mscholarly article \u001b[90m(Q13442814)\u001b[39m\n",
      "\n",
      "\u001b[90mid\u001b[39m Q61104970\n",
      "\u001b[42mLabel\u001b[49m Veerasak Punyapornwithaya\n",
      "\u001b[44mDescription\u001b[49m researcher ORCID ID = 0000-0001-9870-7773\n",
      "\u001b[30m\u001b[47minstance of\u001b[49m\u001b[39m \u001b[90m(P31)\u001b[39m\u001b[90m: \u001b[39mhuman \u001b[90m(Q5)\u001b[39m\n"
     ]
    }
   ],
   "source": [
    "!wd u Q24611162, Q61104970"
   ]
  },
  {
   "cell_type": "markdown",
   "metadata": {},
   "source": [
    "Fetch all the edges from Wikidata about the authors and citations in our corpus.\n",
    "We do this by scanning the Wikidata edges file and extraction all edges where node1 matches node2 in `citation-and-author-edges.tsv`"
   ]
  },
  {
   "cell_type": "code",
   "execution_count": 83,
   "metadata": {},
   "outputs": [
    {
     "name": "stdout",
     "output_type": "stream",
     "text": [
      "\n",
      "real\t43m13.185s\n",
      "user\t44m37.153s\n",
      "sys\t2m6.936s\n"
     ]
    }
   ],
   "source": [
    "!time gzcat \"$WD/wikidata_edges_20200504.tsv.gz\" \\\n",
    "  | kgtk ifexists --input-keys node1 --filter-on $COVID/citation-and-author-edges.tsv --filter-keys node2 \\\n",
    "  > $COVID/corpus-citations-and-authors.tsv"
   ]
  },
  {
   "cell_type": "markdown",
   "metadata": {},
   "source": [
    "Keep the edges for the articles and entities that we have in the BLENDER corpus"
   ]
  },
  {
   "cell_type": "markdown",
   "metadata": {},
   "source": [
    "First extract all the edges that we may want to use (this takes 107 minutes)"
   ]
  },
  {
   "cell_type": "code",
   "execution_count": 85,
   "metadata": {},
   "outputs": [
    {
     "name": "stdout",
     "output_type": "stream",
     "text": [
      " 11389393 78495849 854598718 /Users/pedroszekely/data/covid/blender/corpus-citations-and-authors.tsv\n"
     ]
    }
   ],
   "source": [
    "!wc $COVID/corpus-citations-and-authors.tsv"
   ]
  },
  {
   "cell_type": "code",
   "execution_count": 86,
   "metadata": {},
   "outputs": [
    {
     "name": "stdout",
     "output_type": "stream",
     "text": [
      "id\tnode1\tlabel\tnode2\trank\tnode2;magnitude\tnode2;unit\tnode2;date\tnode2;item\tnode2;lower\tnode2;upper\tnode2;latitude\tnode2;longitude\tnode2;precision\tnode2;calendar\tnode2;entity-type\n",
      "Q493567-P21-1\tQ493567\tP21\tQ6581097\tnormal\t\t\t\tQ6581097\t\t\t\t\t\t\titem\n",
      "Q493567-P106-1\tQ493567\tP106\tQ3779582\tnormal\t\t\t\tQ3779582\t\t\t\t\t\t\titem\n",
      "Q493567-P106-2\tQ493567\tP106\tQ39631\tnormal\t\t\t\tQ39631\t\t\t\t\t\t\titem\n",
      "Q493567-P106-3\tQ493567\tP106\tQ82955\tnormal\t\t\t\tQ82955\t\t\t\t\t\t\titem\n",
      "Q493567-P106-4\tQ493567\tP106\tQ1622272\tnormal\t\t\t\tQ1622272\t\t\t\t\t\t\titem\n",
      "Q493567-P106-5\tQ493567\tP106\tQ15634281\tnormal\t\t\t\tQ15634281\t\t\t\t\t\t\titem\n",
      "Q493567-P19-1\tQ493567\tP19\tQ984894\tnormal\t\t\t\tQ984894\t\t\t\t\t\t\titem\n",
      "Q493567-P244-1\tQ493567\tP244\t\"n88290830\"\tnormal\t\t\t\t\t\t\t\t\t\t\t\n",
      "Q493567-P214-1\tQ493567\tP214\t\"69131111\"\tnormal\t\t\t\t\t\t\t\t\t\t\t\n"
     ]
    }
   ],
   "source": [
    "!head $COVID/corpus-citations-and-authors.tsv"
   ]
  },
  {
   "cell_type": "code",
   "execution_count": 92,
   "metadata": {},
   "outputs": [
    {
     "name": "stderr",
     "output_type": "stream",
     "text": [
      "/Users/pedroszekely/opt/anaconda3/envs/kgtk-env/lib/python3.7/site-packages/IPython/core/interactiveshell.py:3063: DtypeWarning: Columns (6) have mixed types.Specify dtype option on import or set low_memory=False.\n",
      "  interactivity=interactivity, compiler=compiler, result=result)\n"
     ]
    },
    {
     "data": {
      "text/html": [
       "<div>\n",
       "<style scoped>\n",
       "    .dataframe tbody tr th:only-of-type {\n",
       "        vertical-align: middle;\n",
       "    }\n",
       "\n",
       "    .dataframe tbody tr th {\n",
       "        vertical-align: top;\n",
       "    }\n",
       "\n",
       "    .dataframe thead th {\n",
       "        text-align: right;\n",
       "    }\n",
       "</style>\n",
       "<table border=\"1\" class=\"dataframe\">\n",
       "  <thead>\n",
       "    <tr style=\"text-align: right;\">\n",
       "      <th></th>\n",
       "      <th>id</th>\n",
       "      <th>node1</th>\n",
       "      <th>label</th>\n",
       "      <th>node2</th>\n",
       "    </tr>\n",
       "  </thead>\n",
       "  <tbody>\n",
       "    <tr>\n",
       "      <th>0</th>\n",
       "      <td>Q493567-P21-1</td>\n",
       "      <td>Q493567</td>\n",
       "      <td>P21</td>\n",
       "      <td>Q6581097</td>\n",
       "    </tr>\n",
       "    <tr>\n",
       "      <th>1</th>\n",
       "      <td>Q493567-P106-1</td>\n",
       "      <td>Q493567</td>\n",
       "      <td>P106</td>\n",
       "      <td>Q3779582</td>\n",
       "    </tr>\n",
       "    <tr>\n",
       "      <th>2</th>\n",
       "      <td>Q493567-P106-2</td>\n",
       "      <td>Q493567</td>\n",
       "      <td>P106</td>\n",
       "      <td>Q39631</td>\n",
       "    </tr>\n",
       "    <tr>\n",
       "      <th>3</th>\n",
       "      <td>Q493567-P106-3</td>\n",
       "      <td>Q493567</td>\n",
       "      <td>P106</td>\n",
       "      <td>Q82955</td>\n",
       "    </tr>\n",
       "    <tr>\n",
       "      <th>4</th>\n",
       "      <td>Q493567-P106-4</td>\n",
       "      <td>Q493567</td>\n",
       "      <td>P106</td>\n",
       "      <td>Q1622272</td>\n",
       "    </tr>\n",
       "    <tr>\n",
       "      <th>...</th>\n",
       "      <td>...</td>\n",
       "      <td>...</td>\n",
       "      <td>...</td>\n",
       "      <td>...</td>\n",
       "    </tr>\n",
       "    <tr>\n",
       "      <th>11389387</th>\n",
       "      <td>Q92959340-P31-1</td>\n",
       "      <td>Q92959340</td>\n",
       "      <td>P31</td>\n",
       "      <td>Q5</td>\n",
       "    </tr>\n",
       "    <tr>\n",
       "      <th>11389388</th>\n",
       "      <td>Q93068965-P496-1</td>\n",
       "      <td>Q93068965</td>\n",
       "      <td>P496</td>\n",
       "      <td>0000-0002-0515-3933</td>\n",
       "    </tr>\n",
       "    <tr>\n",
       "      <th>11389389</th>\n",
       "      <td>Q93068965-P31-1</td>\n",
       "      <td>Q93068965</td>\n",
       "      <td>P31</td>\n",
       "      <td>Q5</td>\n",
       "    </tr>\n",
       "    <tr>\n",
       "      <th>11389390</th>\n",
       "      <td>Q93078579-P496-1</td>\n",
       "      <td>Q93078579</td>\n",
       "      <td>P496</td>\n",
       "      <td>0000-0003-4287-7831</td>\n",
       "    </tr>\n",
       "    <tr>\n",
       "      <th>11389391</th>\n",
       "      <td>Q93078579-P31-1</td>\n",
       "      <td>Q93078579</td>\n",
       "      <td>P31</td>\n",
       "      <td>Q5</td>\n",
       "    </tr>\n",
       "  </tbody>\n",
       "</table>\n",
       "<p>11389392 rows × 4 columns</p>\n",
       "</div>"
      ],
      "text/plain": [
       "                        id      node1 label                node2\n",
       "0            Q493567-P21-1    Q493567   P21             Q6581097\n",
       "1           Q493567-P106-1    Q493567  P106             Q3779582\n",
       "2           Q493567-P106-2    Q493567  P106               Q39631\n",
       "3           Q493567-P106-3    Q493567  P106               Q82955\n",
       "4           Q493567-P106-4    Q493567  P106             Q1622272\n",
       "...                    ...        ...   ...                  ...\n",
       "11389387   Q92959340-P31-1  Q92959340   P31                   Q5\n",
       "11389388  Q93068965-P496-1  Q93068965  P496  0000-0002-0515-3933\n",
       "11389389   Q93068965-P31-1  Q93068965   P31                   Q5\n",
       "11389390  Q93078579-P496-1  Q93078579  P496  0000-0003-4287-7831\n",
       "11389391   Q93078579-P31-1  Q93078579   P31                   Q5\n",
       "\n",
       "[11389392 rows x 4 columns]"
      ]
     },
     "execution_count": 92,
     "metadata": {},
     "output_type": "execute_result"
    }
   ],
   "source": [
    "ccau = pd.read_csv(os.getenv(\"COVID\")+'/corpus-citations-and-authors.tsv', delimiter='\\t')\n",
    "ccau.loc[:, ['id', 'node1', 'label', 'node2']]"
   ]
  },
  {
   "cell_type": "code",
   "execution_count": 93,
   "metadata": {},
   "outputs": [
    {
     "data": {
      "text/plain": [
       "Q13442814    288236\n",
       "Q1860        156362\n",
       "1             36519\n",
       "2             33157\n",
       "3             30061\n",
       "4             27443\n",
       "5             23557\n",
       "6             23406\n",
       "7             16362\n",
       "8             16141\n",
       "9             14921\n",
       "10            14679\n",
       "Q1251128      14032\n",
       "11            13758\n",
       "Q5            13615\n",
       "12            13434\n",
       "Q1650915       8181\n",
       "Q1146531       7967\n",
       "Q564954        6669\n",
       "13             6077\n",
       "Name: node2, dtype: int64"
      ]
     },
     "execution_count": 93,
     "metadata": {},
     "output_type": "execute_result"
    }
   ],
   "source": [
    "ccau.node2.value_counts()[0:20]"
   ]
  },
  {
   "cell_type": "code",
   "execution_count": 94,
   "metadata": {},
   "outputs": [
    {
     "name": "stdout",
     "output_type": "stream",
     "text": [
      "\u001b[90mid\u001b[39m Q13442814\n",
      "\u001b[42mLabel\u001b[49m scholarly article\n",
      "\u001b[44mDescription\u001b[49m article in an academic publication, usually peer reviewed\n",
      "\u001b[30m\u001b[47msubclass of\u001b[49m\u001b[39m \u001b[90m(P279)\u001b[39m\u001b[90m: \u001b[39mscholarly publication \u001b[90m(Q591041)\u001b[39m | article \u001b[90m(Q191067)\u001b[39m | scholarly work \u001b[90m(Q55915575)\u001b[39m\n",
      "\n",
      "\u001b[90mid\u001b[39m Q1860\n",
      "\u001b[42mLabel\u001b[49m English\n",
      "\u001b[44mDescription\u001b[49m West Germanic language originating in England with linguistic roots in French, German and Vulgar Latin\n",
      "\u001b[30m\u001b[47minstance of\u001b[49m\u001b[39m \u001b[90m(P31)\u001b[39m\u001b[90m: \u001b[39m natural language \u001b[90m(Q33742)\u001b[39m | modern language \u001b[90m(Q1288568)\u001b[39m | language \u001b[90m(Q34770)\u001b[39m\n",
      "\u001b[30m\u001b[47msubclass of\u001b[49m\u001b[39m \u001b[90m(P279)\u001b[39m\u001b[90m: \u001b[39mAnglic languages \u001b[90m(Q1346342)\u001b[39m\n",
      "\n",
      "\u001b[90mid\u001b[39m Q1251128\n",
      "\u001b[42mLabel\u001b[49m Journal of Virology\n",
      "\u001b[44mDescription\u001b[49m scientific journal\n",
      "\u001b[30m\u001b[47minstance of\u001b[49m\u001b[39m \u001b[90m(P31)\u001b[39m\u001b[90m: \u001b[39mscientific journal \u001b[90m(Q5633421)\u001b[39m | delayed open access journal \u001b[90m(Q5253501)\u001b[39m\n"
     ]
    }
   ],
   "source": [
    "!wd u Q13442814, Q1860, Q1251128"
   ]
  },
  {
   "cell_type": "code",
   "execution_count": 7,
   "metadata": {},
   "outputs": [],
   "source": [
    "!gzcat $COVID/corpus-identifier-edges.tsv.gz | kgtk filter -p \";P698,P932;\" | gzip > $COVID/corpus-article-identifier-edges.tsv.gz"
   ]
  },
  {
   "cell_type": "code",
   "execution_count": 9,
   "metadata": {},
   "outputs": [],
   "source": [
    "!gzcat $COVID/corpus-identifier-edges.tsv.gz | kgtk filter -p \";P685,P486,P351,P5055;\" | gzip > $COVID/corpus-entity-identifier-edges.tsv.gz"
   ]
  },
  {
   "cell_type": "code",
   "execution_count": null,
   "metadata": {},
   "outputs": [],
   "source": []
  },
  {
   "cell_type": "markdown",
   "metadata": {},
   "source": [
    "## Create Missing Items"
   ]
  },
  {
   "cell_type": "markdown",
   "metadata": {},
   "source": [
    "## Create Mention Edges"
   ]
  },
  {
   "cell_type": "code",
   "execution_count": null,
   "metadata": {},
   "outputs": [],
   "source": []
  },
  {
   "cell_type": "markdown",
   "metadata": {},
   "source": [
    "## Incorporate Analytic Outputs"
   ]
  },
  {
   "cell_type": "markdown",
   "metadata": {},
   "source": [
    "## Export Knowledge Graph"
   ]
  },
  {
   "cell_type": "code",
   "execution_count": null,
   "metadata": {},
   "outputs": [],
   "source": [
    "!time gzcat $COVID/pmcid.tsv.gz | kgtk ifexists --filter-on $COVID/covid-pmcids.tsv --left-keys node2 --right-keys id | gzip > covid-pmcid-edges.tsv.gz"
   ]
  },
  {
   "cell_type": "code",
   "execution_count": 3,
   "metadata": {},
   "outputs": [
    {
     "name": "stdout",
     "output_type": "stream",
     "text": [
      "   12934   64679  750209\n"
     ]
    }
   ],
   "source": [
    "!gzcat covid-pmcid-edges.tsv.gz | wc"
   ]
  },
  {
   "cell_type": "code",
   "execution_count": 4,
   "metadata": {},
   "outputs": [
    {
     "name": "stdout",
     "output_type": "stream",
     "text": [
      "id\tnode1\tlabel\tnode2\trank\tnode2;magnitude\tnode2;unit\tnode2;lower\tnode2;upper\tnode2;latitude\tnode2;longitude\tnode2;precision\tnode2;calendar\tnode2;entity-type\n",
      "Q21093209-P932-1\tQ21093209\tP932\t\"2918564\"\tnormal\t\t\t\t\t\t\t\t\t\n",
      "Q21142689-P932-1\tQ21142689\tP932\t\"2792043\"\tnormal\t\t\t\t\t\t\t\t\t\n",
      "Q21144693-P932-1\tQ21144693\tP932\t\"1564183\"\tnormal\t\t\t\t\t\t\t\t\t\n",
      "Q21146685-P932-1\tQ21146685\tP932\t\"4207625\"\tnormal\t\t\t\t\t\t\t\t\t\n",
      "Q21256658-P932-1\tQ21256658\tP932\t\"1373654\"\tnormal\t\t\t\t\t\t\t\t\t\n",
      "Q21283966-P932-1\tQ21283966\tP932\t\"1185527\"\tnormal\t\t\t\t\t\t\t\t\t\n",
      "Q21328696-P932-1\tQ21328696\tP932\t\"2842971\"\tnormal\t\t\t\t\t\t\t\t\t\n",
      "Q22680677-P932-1\tQ22680677\tP932\t\"4517126\"\tnormal\t\t\t\t\t\t\t\t\t\n",
      "Q23912860-P932-1\tQ23912860\tP932\t\"4941879\"\tnormal\t\t\t\t\t\t\t\t\t\n",
      "gzcat: error writing to output: Broken pipe\n",
      "gzcat: covid-pmcid-edges.tsv.gz: uncompress failed\n"
     ]
    }
   ],
   "source": [
    "!gzcat covid-pmcid-edges.tsv.gz | head "
   ]
  },
  {
   "cell_type": "code",
   "execution_count": 5,
   "metadata": {},
   "outputs": [
    {
     "name": "stdout",
     "output_type": "stream",
     "text": [
      "\u001b[90mid\u001b[39m Q21093209\n",
      "\u001b[42mLabel\u001b[49m RETRACTED: Influenza or not influenza: analysis of a case of high fever that happened 2000 years ago in Biblical time\n",
      "\u001b[44mDescription\u001b[49m scientific article\n",
      "\u001b[30m\u001b[47minstance of\u001b[49m\u001b[39m \u001b[90m(P31)\u001b[39m\u001b[90m: \u001b[39mscholarly article \u001b[90m(Q13442814)\u001b[39m | retracted paper \u001b[90m(Q45182324)\u001b[39m\n"
     ]
    }
   ],
   "source": [
    "!wd u Q21093209"
   ]
  },
  {
   "cell_type": "code",
   "execution_count": 6,
   "metadata": {},
   "outputs": [
    {
     "name": "stdout",
     "output_type": "stream",
     "text": [
      "/Users/pedroszekely/data/covid/covid-pmcid-edges.tsv.gz\n"
     ]
    }
   ],
   "source": [
    "!ls $COVID/covid-pmcid-edges.tsv.gz"
   ]
  },
  {
   "cell_type": "code",
   "execution_count": 7,
   "metadata": {},
   "outputs": [
    {
     "name": "stdout",
     "output_type": "stream",
     "text": [
      "env: COVID: No such file or directory\n"
     ]
    }
   ],
   "source": [
    "!cd $(env COVID)"
   ]
  },
  {
   "cell_type": "code",
   "execution_count": 8,
   "metadata": {},
   "outputs": [
    {
     "data": {
      "text/plain": [
       "'/Users/pedroszekely/data/covid'"
      ]
     },
     "execution_count": 8,
     "metadata": {},
     "output_type": "execute_result"
    }
   ],
   "source": [
    "pwd"
   ]
  },
  {
   "cell_type": "code",
   "execution_count": null,
   "metadata": {},
   "outputs": [],
   "source": []
  },
  {
   "cell_type": "code",
   "execution_count": null,
   "metadata": {},
   "outputs": [],
   "source": []
  },
  {
   "cell_type": "code",
   "execution_count": null,
   "metadata": {},
   "outputs": [],
   "source": []
  },
  {
   "cell_type": "code",
   "execution_count": null,
   "metadata": {},
   "outputs": [],
   "source": []
  }
 ],
 "metadata": {
  "kernelspec": {
   "display_name": "Python 3",
   "language": "python",
   "name": "python3"
  },
  "language_info": {
   "codemirror_mode": {
    "name": "ipython",
    "version": 3
   },
   "file_extension": ".py",
   "mimetype": "text/x-python",
   "name": "python",
   "nbconvert_exporter": "python",
   "pygments_lexer": "ipython3",
   "version": "3.7.7"
  }
 },
 "nbformat": 4,
 "nbformat_minor": 4
}
